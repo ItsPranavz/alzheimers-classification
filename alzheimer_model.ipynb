{
  "nbformat": 4,
  "nbformat_minor": 0,
  "metadata": {
    "colab": {
      "provenance": []
    },
    "kernelspec": {
      "name": "python3",
      "display_name": "Python 3"
    },
    "language_info": {
      "name": "python"
    }
  },
  "cells": [
    {
      "cell_type": "code",
      "execution_count": 27,
      "metadata": {
        "id": "-009wyo6-Q0a"
      },
      "outputs": [],
      "source": [
        "import os\n",
        "import numpy as np\n",
        "import nibabel as nib\n",
        "from scipy.ndimage import zoom\n",
        "from sklearn.model_selection import train_test_split\n",
        "from tensorflow.keras.models import Sequential\n",
        "from tensorflow.keras.layers import Conv3D, MaxPooling3D, Flatten, Dense\n",
        "from tensorflow.keras.optimizers import Adam"
      ]
    },
    {
      "cell_type": "code",
      "source": [
        "def load_nifti_files(file_paths):\n",
        "    data = []\n",
        "    for file_path in file_paths:\n",
        "        img = nib.load(file_path)\n",
        "        data.append(img.get_fdata())\n",
        "    return np.array(data)"
      ],
      "metadata": {
        "id": "h7tOVAJe-oxH"
      },
      "execution_count": 28,
      "outputs": []
    },
    {
      "cell_type": "code",
      "source": [
        "# Downloading required dataset files\n",
        "import gdown\n",
        "hdr_ids = [\"1V-uHcMuSAe39jETKtb-3oVkDJ7QCIF-y\", \"15mJ8CxMhyhfbzTVPpF9EMG0rdQClUJ8b\", \"1rNqIks6jCj-APTAf85eyAzOOQewpsKtH\", \"1YQ-vQO2tTTcw1bmCkt4COpeWrblsHikb\"]\n",
        "i = 1\n",
        "for id in hdr_ids:\n",
        "  url = f'https://drive.google.com/uc?id={id}'\n",
        "  output = f\"/content/{i}.hdr\"\n",
        "  gdown.download(url, output, quiet=False)\n",
        "  i += 1\n",
        "\n",
        "img_ids = [\"1BBUdxoVWf7bXcoist47Eotlaf6PGrP25\", \"1ZErMdV5s4EtPxjKYMkZNMWQ7FxUk-6DN\", \"1gJ3CBEi1uqUy8oBVe7i2m9XP7252vGuV\", \"1SvwMt0vaK2pzlzR9i80QjkPzut6zFsTE\"]\n",
        "j = 1\n",
        "for id in img_ids:\n",
        "  url = f'https://drive.google.com/uc?id={id}'\n",
        "  output = f\"/content/{j}.img\"\n",
        "  gdown.download(url, output, quiet=False)\n",
        "  j += 1"
      ],
      "metadata": {
        "colab": {
          "base_uri": "https://localhost:8080/"
        },
        "id": "3AePys_z_uqi",
        "outputId": "0d901511-5f0a-4650-c530-e93d590ced08"
      },
      "execution_count": 31,
      "outputs": [
        {
          "output_type": "stream",
          "name": "stderr",
          "text": [
            "Downloading...\n",
            "From: https://drive.google.com/uc?id=1V-uHcMuSAe39jETKtb-3oVkDJ7QCIF-y\n",
            "To: /content/1.hdr\n",
            "100%|██████████| 348/348 [00:00<00:00, 219kB/s]\n",
            "Downloading...\n",
            "From: https://drive.google.com/uc?id=15mJ8CxMhyhfbzTVPpF9EMG0rdQClUJ8b\n",
            "To: /content/2.hdr\n",
            "100%|██████████| 348/348 [00:00<00:00, 908kB/s]\n",
            "Downloading...\n",
            "From: https://drive.google.com/uc?id=1rNqIks6jCj-APTAf85eyAzOOQewpsKtH\n",
            "To: /content/3.hdr\n",
            "100%|██████████| 348/348 [00:00<00:00, 1.01MB/s]\n",
            "Downloading...\n",
            "From: https://drive.google.com/uc?id=1YQ-vQO2tTTcw1bmCkt4COpeWrblsHikb\n",
            "To: /content/4.hdr\n",
            "100%|██████████| 348/348 [00:00<00:00, 1.21MB/s]\n",
            "Downloading...\n",
            "From: https://drive.google.com/uc?id=1BBUdxoVWf7bXcoist47Eotlaf6PGrP25\n",
            "To: /content/1.img\n",
            "100%|██████████| 33.6M/33.6M [00:00<00:00, 95.5MB/s]\n",
            "Downloading...\n",
            "From: https://drive.google.com/uc?id=1ZErMdV5s4EtPxjKYMkZNMWQ7FxUk-6DN\n",
            "To: /content/2.img\n",
            "100%|██████████| 33.6M/33.6M [00:00<00:00, 98.7MB/s]\n",
            "Downloading...\n",
            "From: https://drive.google.com/uc?id=1gJ3CBEi1uqUy8oBVe7i2m9XP7252vGuV\n",
            "To: /content/3.img\n",
            "100%|██████████| 33.6M/33.6M [00:00<00:00, 79.9MB/s]\n",
            "Downloading...\n",
            "From: https://drive.google.com/uc?id=1SvwMt0vaK2pzlzR9i80QjkPzut6zFsTE\n",
            "To: /content/4.img\n",
            "100%|██████████| 33.6M/33.6M [00:00<00:00, 71.6MB/s]\n"
          ]
        }
      ]
    },
    {
      "cell_type": "code",
      "source": [
        "# Load the MRI scans and labels\n",
        "labels = [0, 1, 0, 0]\n",
        "mri_file_paths = [\"/content/1.hdr\", \"/content/2.hdr\", \"/content/3.hdr\", \"/content/4.hdr\"]\n",
        "mri_scans = load_nifti_files(mri_file_paths)\n",
        "labels = np.array(labels)\n",
        "\n",
        "# Normalize the MRI scans to have values between 0 and 1\n",
        "mri_scans = mri_scans / np.max(mri_scans)\n",
        "\n",
        "print(\"Shape of MRI scans:\", mri_scans.shape)"
      ],
      "metadata": {
        "colab": {
          "base_uri": "https://localhost:8080/"
        },
        "id": "Z6dVHx-r-svs",
        "outputId": "acc5c8a8-976f-4867-dec0-128da7a7f526"
      },
      "execution_count": 32,
      "outputs": [
        {
          "output_type": "stream",
          "name": "stdout",
          "text": [
            "Shape of MRI scans: (4, 256, 256, 128, 1)\n"
          ]
        }
      ]
    },
    {
      "cell_type": "code",
      "source": [
        "# Preprocessing the data to reduce training load\n",
        "def resize_image(image, new_shape):\n",
        "    old_shape = np.array(image.shape)\n",
        "    ratio = new_shape / old_shape\n",
        "    return zoom(image, ratio, mode='nearest')\n",
        "\n",
        "resized_scans = np.array([resize_image(scan, (128, 128, 64, 1)) for scan in mri_scans])\n",
        "print(\"Shape of preprocessed MRI scans:\", resized_scans.shape)"
      ],
      "metadata": {
        "colab": {
          "base_uri": "https://localhost:8080/"
        },
        "id": "J0p0tAn3-ZOC",
        "outputId": "25c0095c-97d5-439a-b278-fb57b832a913"
      },
      "execution_count": 33,
      "outputs": [
        {
          "output_type": "stream",
          "name": "stdout",
          "text": [
            "Shape of preprocessed MRI scans: (4, 128, 128, 64, 1)\n"
          ]
        }
      ]
    },
    {
      "cell_type": "code",
      "source": [
        "# Split the data into training and testing sets\n",
        "x_train, x_test, y_train, y_test = train_test_split(resized_scans, labels, test_size=0.2, random_state=42)\n",
        "\n",
        "# Reshape the data to include the channel dimension (required for CNN)\n",
        "x_train = x_train.reshape((-1, 128, 128, 64, 1))\n",
        "x_test = x_test.reshape((-1, 128, 128, 64, 1))"
      ],
      "metadata": {
        "id": "5ywzNx3v-YcE"
      },
      "execution_count": 34,
      "outputs": []
    },
    {
      "cell_type": "code",
      "source": [
        "def create_model():\n",
        "    model = Sequential()\n",
        "    model.add(Conv3D(32, kernel_size=(3, 3, 3), activation='relu', input_shape=(128, 128, 64, 1)))\n",
        "    model.add(MaxPooling3D(pool_size=(2, 2, 2)))\n",
        "    model.add(Conv3D(64, kernel_size=(3, 3, 3), activation='relu'))\n",
        "    model.add(MaxPooling3D(pool_size=(2, 2, 2)))\n",
        "    model.add(Flatten())\n",
        "    model.add(Dense(128, activation='relu'))\n",
        "    model.add(Dense(1, activation='sigmoid'))\n",
        "    return model"
      ],
      "metadata": {
        "id": "ZZUyy8hwBsCv"
      },
      "execution_count": 35,
      "outputs": []
    },
    {
      "cell_type": "code",
      "source": [
        "model = create_model()\n",
        "model.compile(optimizer=Adam(), loss='binary_crossentropy', metrics=['accuracy'])\n",
        "model.fit(x_train, y_train, validation_data=(x_test, y_test), epochs=10)"
      ],
      "metadata": {
        "colab": {
          "base_uri": "https://localhost:8080/"
        },
        "id": "KYZ9a_ExBv7y",
        "outputId": "8d91043b-ccde-4024-f034-90d5eac8c2ff"
      },
      "execution_count": 36,
      "outputs": [
        {
          "output_type": "stream",
          "name": "stdout",
          "text": [
            "Epoch 1/10\n",
            "1/1 [==============================] - 18s 18s/step - loss: 0.7050 - accuracy: 0.0000e+00 - val_loss: 85.4571 - val_accuracy: 0.0000e+00\n",
            "Epoch 2/10\n",
            "1/1 [==============================] - 21s 21s/step - loss: 6.5039e-33 - accuracy: 1.0000 - val_loss: 157.5114 - val_accuracy: 0.0000e+00\n",
            "Epoch 3/10\n",
            "1/1 [==============================] - 17s 17s/step - loss: 0.0000e+00 - accuracy: 1.0000 - val_loss: 227.7416 - val_accuracy: 0.0000e+00\n",
            "Epoch 4/10\n",
            "1/1 [==============================] - 16s 16s/step - loss: 0.0000e+00 - accuracy: 1.0000 - val_loss: 297.1785 - val_accuracy: 0.0000e+00\n",
            "Epoch 5/10\n",
            "1/1 [==============================] - 16s 16s/step - loss: 0.0000e+00 - accuracy: 1.0000 - val_loss: 365.3057 - val_accuracy: 0.0000e+00\n",
            "Epoch 6/10\n",
            "1/1 [==============================] - 16s 16s/step - loss: 0.0000e+00 - accuracy: 1.0000 - val_loss: 431.4995 - val_accuracy: 0.0000e+00\n",
            "Epoch 7/10\n",
            "1/1 [==============================] - 16s 16s/step - loss: 0.0000e+00 - accuracy: 1.0000 - val_loss: 495.2956 - val_accuracy: 0.0000e+00\n",
            "Epoch 8/10\n",
            "1/1 [==============================] - 17s 17s/step - loss: 0.0000e+00 - accuracy: 1.0000 - val_loss: 556.2333 - val_accuracy: 0.0000e+00\n",
            "Epoch 9/10\n",
            "1/1 [==============================] - 18s 18s/step - loss: 0.0000e+00 - accuracy: 1.0000 - val_loss: 614.0638 - val_accuracy: 0.0000e+00\n",
            "Epoch 10/10\n",
            "1/1 [==============================] - 16s 16s/step - loss: 0.0000e+00 - accuracy: 1.0000 - val_loss: 668.6810 - val_accuracy: 0.0000e+00\n"
          ]
        },
        {
          "output_type": "execute_result",
          "data": {
            "text/plain": [
              "<keras.src.callbacks.History at 0x7ff548106e90>"
            ]
          },
          "metadata": {},
          "execution_count": 36
        }
      ]
    }
  ]
}